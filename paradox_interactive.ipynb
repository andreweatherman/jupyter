{
 "cells": [
  {
   "cell_type": "code",
   "execution_count": null,
   "metadata": {},
   "outputs": [],
   "source": [
    "from IPython.core.display import HTML\n",
    "def css_styling():\n",
    "    styles = open(\"./styles/custom.css\", \"r\").read()\n",
    "    return HTML(styles)\n",
    "css_styling()"
   ]
  },
  {
   "cell_type": "markdown",
   "metadata": {},
   "source": [
    "# The Birthday Paradox\n",
    "### Andrew Weatherman\n",
    "The birthday paradox asks for the probability that at least two people will share a birthdate (year excluded) from a sample of $n$ people. Superficially, the solution is counterintuitive; **from a random sample of 23 people, the probability that at least two people will share a birthdate is 50%.** That sounds silly! But...it's perfectly reasonable. Probabilities are a weird thing: Let's break down the Birthday Paradox."
   ]
  },
  {
   "cell_type": "code",
   "execution_count": null,
   "metadata": {
    "tags": [
     "\"remove_input\""
    ]
   },
   "outputs": [],
   "source": [
    "\"\"\"Import modules and define functions\"\"\"\n",
    "import time\n",
    "from calendar import month_abbr\n",
    "import random\n",
    "from collections import Counter\n",
    "import matplotlib.pyplot as plt\n",
    "from math import factorial, sqrt\n",
    "from numpy import log, arange\n",
    "import ipywidgets as widgets\n",
    "from IPython.display import display, Markdown, clear_output\n",
    "\n",
    "def find_match(dn):\n",
    "    \"\"\"A function that finds if there is a birthday match by generating dn birthdays once;\n",
    "    used in combination with simulation() to loop over iterations\"\"\"\n",
    "    match = 0\n",
    "    # grab random months\n",
    "    sim_month = random.choices(range(1,13), k=dn)\n",
    "    # grab random days -- agreeing with month-day limits\n",
    "    sim_day = [random.randint(1, 31) if any(months in sim_month for months in [1,3,5,7,8,10,12]) else random.randint(1,30) if any(months in sim_month for months in [4,6,9,11]) else random.randint(1,28) for months in range(len(sim_month))]\n",
    "    # join lists\n",
    "    sim_cpu_bday = [f'{sim_month[i]}, {sim_day[i]}' for i in range(len(sim_month))]\n",
    "    # check if match occurs\n",
    "    if any(i >= 2 for i in Counter(sim_cpu_bday).values()):\n",
    "        match += 1\n",
    "    return match\n",
    "\n",
    "def simulation(dn, sample, multi=True, plot=False):\n",
    "    \"\"\"Runs simulation of size sample over range(2, dn+1) dates or a single number dn\"\"\"\n",
    "    # run simulation over multiple dates\n",
    "    if multi:\n",
    "        # define empty lists for plotting\n",
    "        x = []\n",
    "        freq = []\n",
    "        # enumerate to capture dn with matches\n",
    "        for dates, j in enumerate(range(2, dn+1), start=2):\n",
    "            total_match = 0\n",
    "            # loop over range of total dates to generate\n",
    "            for i in range(1, sample+1):\n",
    "                iter_match = find_match(dates)\n",
    "                if iter_match == 1:\n",
    "                    total_match += 1\n",
    "            x = [dates, total_match]\n",
    "            freq.append(x)\n",
    "            if not plot:\n",
    "                print(f\"Running {i} simulations of {dates} generated birthdays, we found {total_match} simulations with a match! Good for {'{:.2%}'.format(total_match / sample)}.\")\n",
    "        if plot:\n",
    "            return freq\n",
    "    # run simulation with one date \n",
    "    else:\n",
    "        total_match = 0\n",
    "        for i in range(1, sample+1):\n",
    "            iter_match = find_match(dn)\n",
    "            if iter_match == 1:\n",
    "                total_match += 1\n",
    "        print(f\"Running {sample} simulations of {dn} generated birthdays, we found {total_match} simulations with a match! Good for {'{:.2%}'.format(total_match / sample)}.\")\n",
    "\n",
    "def prob_curve(dn, sample):\n",
    "    \"\"\"Plots a probability curve for sample simulations over a range of generated dates\"\"\"\n",
    "    # grab simulated values\n",
    "    freq = simulation(dn, sample, plot=True)\n",
    "    dates = [freq[i][0] for i in range(len(freq))]\n",
    "    n = [(freq[i][1]/sample) for i in range(len(freq))]\n",
    "    plt.plot(dates, n, color='green')\n",
    "    plt.xlabel(\"Generated birthdays\")\n",
    "    plt.ylabel(\"Matches ratio\")\n",
    "    plt.show()\n",
    "\n",
    "def general(rate, items):\n",
    "    \"\"\"A general formula to return choices needed to return probability rate from items\"\"\"\n",
    "    num = round(sqrt(-2*(log(1-rate)))*sqrt(items),3)\n",
    "    print(f\"From {items} choices, {num} items need to be chosen to have a {'{:.2%}'.format(float(rate))} chance of at least one match.\")\n"
   ]
  },
  {
   "cell_type": "markdown",
   "metadata": {},
   "source": [
    "To first prove the paradox, we will randomly generate 23 birthdays and see if there is a match. For simplicity here, and throughout the rest of the module, we will assume there is no leap year."
   ]
  },
  {
   "cell_type": "code",
   "execution_count": null,
   "metadata": {},
   "outputs": [],
   "source": [
    "\"\"\"Single generation\"\"\"\n",
    "# grab random months\n",
    "month = random.choices(range(1,13), k=23)\n",
    "# grab random days -- agreeing with month-day limits\n",
    "day = [random.randint(1, 31) if any(months in month for months in [1,3,5,7,8,10,12]) else month + random.randint(1,30) if any(months in month for months in [4,6,9,11]) else month + random.randint(1,28) for months in range(len(month))]\n",
    "# change month numbers to abbr.\n",
    "month = [month_abbr[i] for i in month]\n",
    "# join lists\n",
    "cpu_bday = [f'{month[i]}, {day[i]}' for i in range(len(month))]\n",
    "# check if there is a match\n",
    "if any(i >= 2 for i in Counter(cpu_bday).values()):\n",
    "    print('We randomly generated 23 birthdays and found a match!')\n",
    "    time.sleep(2)\n",
    "# if no match\n",
    "else: \n",
    "    print('Drats -- no matches were found!')\n",
    "    time.sleep(2)"
   ]
  },
  {
   "cell_type": "code",
   "execution_count": null,
   "metadata": {},
   "outputs": [],
   "source": [
    "from turtle import clear\n",
    "\n",
    "\n",
    "dates_button = widgets.Button(description='Show dates')\n",
    "out = widgets.Output()\n",
    "\n",
    "def show_dates(_):\n",
    "    with out:\n",
    "        clear_output()\n",
    "        print(*cpu_bday, sep=\"\\n\")\n",
    "\n",
    "dates_button.on_click(show_dates)\n",
    "widgets.VBox([dates_button, out])"
   ]
  },
  {
   "cell_type": "markdown",
   "metadata": {},
   "source": [
    "That's cool, but to further prove the paradox, we should run more simulations. Feel free to play around with the number of simulations to run below."
   ]
  },
  {
   "cell_type": "code",
   "execution_count": 48,
   "metadata": {},
   "outputs": [
    {
     "data": {
      "application/vnd.jupyter.widget-view+json": {
       "model_id": "14a6e9c0cd6547f882d11a7c2b51e110",
       "version_major": 2,
       "version_minor": 0
      },
      "text/plain": [
       "interactive(children=(IntSlider(value=10500, description='Simulations', max=20000, min=1000), Output()), _dom_…"
      ]
     },
     "metadata": {},
     "output_type": "display_data"
    }
   ],
   "source": [
    "@widgets.interact(Simulations=(1000, 20000))\n",
    "def single_sim_widget(Simulations):\n",
    "    simulation(23, Simulations, multi=False)"
   ]
  },
  {
   "cell_type": "markdown",
   "metadata": {},
   "source": [
    "We can clearly see that as we approach an infinite number of simulations, the percentage of matches will converge to 50%. But what if we change the number of generated birthdays?"
   ]
  },
  {
   "cell_type": "code",
   "execution_count": 49,
   "metadata": {},
   "outputs": [
    {
     "data": {
      "application/vnd.jupyter.widget-view+json": {
       "model_id": "ef8680c239ad4f6bb7804d2ae81ad92a",
       "version_major": 2,
       "version_minor": 0
      },
      "text/plain": [
       "interactive(children=(IntSlider(value=25, description='Dates', max=50, min=1), IntSlider(value=10500, descript…"
      ]
     },
     "metadata": {},
     "output_type": "display_data"
    }
   ],
   "source": [
    "@widgets.interact(Dates=(1,50), Simulations=(1000, 20000))\n",
    "def birthday_widget(Dates, Simulations):\n",
    "    simulation(Dates, Simulations, multi=False)"
   ]
  },
  {
   "cell_type": "markdown",
   "metadata": {},
   "source": [
    "## So what is happening under the hood?\n",
    "Perhaps the most intuitive approach is to calculate the probability that no birthdates match. The probability of the first individual having a unique birthdate is, well, 100% -- or 365/365. With one fewer unique date avaliable, the probability of the second person having a distinct birthdate is 364/365. The pattern continues at  363/365, 362/365, etc. In short, the probability of no matches occurs when person B does not have the same birthdate as person A; person C does not have the same birthdate as person A *or* B; and on.\n",
    "\n",
    "A great way to think about this is that we are actually comparing *far* more birthdates against one another than might seem. In a room of 23 people, you might be aware of the 22 other birthdates that are being compared against yours, but there are 231 *more* date comparisons going on behind the scenes. In fact, there are nearly **10 times as many** comparisons happening that do *not* involve you. If you approach the problem from this view, you will start to understand why the chance of a match is >50%.\n",
    "\n",
    "Birthdates are (mostly) independent events, meaning that the birthdate of one individual does not affect the birthdate of another. It is important to note that dates in this context are not *entirely* independent (if A=B and B=C then A=C), but for the purposes of this module, we can assume independence with reasonable precision.\n",
    "\n",
    "In statistics, the probability of independent events is reached by multiplying each individual probability. In other words, we need to multiply 365/365, 364/365, 363/365...and so on. A nifty algebraic trick is to take the factorial of the numerators. To create a generic formula, we need to introudce variable $n$ -- the number of dates to generate. With a little bit of algebraic magic, coupled with the logic above, we reach the expression: $365!/(365-n)!*365^n$\n",
    "\n",
    "Using this, we can calculate the probability that in a random group of 23 people *no* matches occur. Subbing 23 for $n$, we return 49.3%.\n",
    "\n",
    "Now remember, this is the probability that no matches occur. In statistics, the probability that at least one event occurs (in this case, date matches) is one minus the probability that no matches occur: 50.7%."
   ]
  },
  {
   "cell_type": "markdown",
   "metadata": {},
   "source": [
    "## Further Exploration\n",
    "Now that we have the intuition out of the way, let's explore the paradox a bit further. We can extrapolate the probability curve for one match over some number $n$ of generated dates. Let's start by investigating the change in probability as we approach 23 generated dates over 10,000 simulations of $n$."
   ]
  },
  {
   "cell_type": "code",
   "execution_count": null,
   "metadata": {},
   "outputs": [],
   "source": [
    "prob_curve(23, 10000)"
   ]
  },
  {
   "cell_type": "markdown",
   "metadata": {},
   "source": [
    "As $n$ remains low, the probability of a match grows exponentially, but as we approach larger values of $n$, the growth levels off. Let's re-run the same simulation but extend $n$ to 50."
   ]
  },
  {
   "cell_type": "code",
   "execution_count": null,
   "metadata": {},
   "outputs": [],
   "source": [
    "prob_curve(50, 10000)"
   ]
  },
  {
   "cell_type": "markdown",
   "metadata": {},
   "source": [
    "As we approach $n$ = 50, the rate of growth decreases. If we were to extend $n$ to larger bounds, the plateau would be even more apparent. In mathematics, we call this plateau an \"asymptote,\" a line that a curve approaches, but never touches, as it heads to infinity. After all, there is the *possibility* that no value $n$ results in a date match. As we generate more dates, that chance gets marginally smaller, but -- even if we were to generate 100,000 dates -- the chance is possible."
   ]
  },
  {
   "cell_type": "markdown",
   "metadata": {},
   "source": [
    "## Extensions\n",
    "With the intuition beind the birthday paradox, we are able to generalize formulas to approximate any number of scenarios (match a specific date, near matches, number of days with at least one birthday, etc). For brevity, we will explore just one extension of the birthday paradox.\n",
    "\n",
    "Perhaps the most applicable extension to the core birthday problem is finding the number of \"choices\" needed to reach a desired probability match rate $r$ from any number $n$ total items. Simply put, if I want, on average, a 50% match rate, how many items should I sample from some population size. The math behind this forumla leverages some tricky calculus, so if you're not comfortable with Taylor approxmation, just take the formula at face value.\n",
    "\n",
    "$\n",
    "\\sqrt{-2ln(1-r)} * \\sqrt{n}\n",
    "$\n",
    "\n",
    "Feel free to play around with the interactive calculator below."
   ]
  },
  {
   "cell_type": "code",
   "execution_count": 52,
   "metadata": {},
   "outputs": [
    {
     "data": {
      "application/vnd.jupyter.widget-view+json": {
       "model_id": "666f2c9f1a1d4aedabababa8633e568e",
       "version_major": 2,
       "version_minor": 0
      },
      "text/plain": [
       "interactive(children=(FloatSlider(value=0.5, description='Probability', max=0.99, min=0.01, step=0.01), IntSli…"
      ]
     },
     "metadata": {},
     "output_type": "display_data"
    }
   ],
   "source": [
    "@widgets.interact(Probability=(0.01, 0.99, 0.01), Sample=(5, 1000, 5))\n",
    "def general_widget(Probability, Sample):\n",
    "    general(Probability, Sample)"
   ]
  },
  {
   "cell_type": "markdown",
   "metadata": {},
   "source": [
    "For the birthday paradox, we can model the number of choices needed to attain a probability rate $r$ of at least one match."
   ]
  },
  {
   "cell_type": "code",
   "execution_count": null,
   "metadata": {},
   "outputs": [],
   "source": [
    "num = [round(sqrt(-2*(log(1-i[1])))*sqrt(365),3) for i in enumerate(arange(0.01,1,0.01), start=1)]\n",
    "p = [i[0] for i in enumerate(arange(0.01,1,0.01), start=1)]\n",
    "plt.plot(p, num)\n",
    "plt.xlabel(\"Probability of >= 1 match\")\n",
    "plt.ylabel(\"Number of dates needed\")\n",
    "plt.show()"
   ]
  },
  {
   "cell_type": "markdown",
   "metadata": {},
   "source": [
    "## Mental Shortcut\n",
    "The formula shown is impossible to calculate on the fly. If you want to find the number of choices in some sample size $n$ that will yield a 50% match rate, $\\sqrt{n}$ will give you a rough estimate. Let's try it out with $n$ equal to {100,1000}."
   ]
  },
  {
   "cell_type": "code",
   "execution_count": null,
   "metadata": {},
   "outputs": [],
   "source": [
    "sq_rate = [sqrt(n[1]) for n in enumerate(range(100, 1001), start=1)]\n",
    "sq_dn = [i[0] for i in enumerate(range(100, 1001), start=1)]\n",
    "rate = [sqrt(-2*(log(1-0.5)))*sqrt(i[1]) for i in enumerate(range(100, 1001), start=1)]\n",
    "dn = [i[0] for i in enumerate(range(100, 1001), start=1)]\n",
    "plt.plot(dn, rate, label='Formula')\n",
    "plt.plot(sq_dn, sq_rate, label='Shortcut')\n",
    "plt.xlabel(\"Size of sample\")\n",
    "plt.ylabel(\"Choices needed for 50% match rate\")\n",
    "plt.legend()\n",
    "plt.show()"
   ]
  },
  {
   "cell_type": "markdown",
   "metadata": {},
   "source": [
    "It's not a perfect representation, in fact it consistently under-estimates the true value, but for a quick, formula-free calculation, it would certainly do the trick"
   ]
  },
  {
   "cell_type": "markdown",
   "metadata": {},
   "source": [
    "## More\n",
    "To explore more about the birthday paradox, [this Wikipedia page](https://en.wikipedia.org/wiki/Birthday_problem) has an excellent collection of extension formulas and cases."
   ]
  }
 ],
 "metadata": {
  "celltoolbar": "Tags",
  "kernelspec": {
   "display_name": "Python 3 (ipykernel)",
   "language": "python",
   "name": "python3"
  },
  "language_info": {
   "codemirror_mode": {
    "name": "ipython",
    "version": 3
   },
   "file_extension": ".py",
   "mimetype": "text/x-python",
   "name": "python",
   "nbconvert_exporter": "python",
   "pygments_lexer": "ipython3",
   "version": "3.8.2"
  },
  "vscode": {
   "interpreter": {
    "hash": "570feb405e2e27c949193ac68f46852414290d515b0ba6e5d90d076ed2284471"
   }
  }
 },
 "nbformat": 4,
 "nbformat_minor": 2
}
